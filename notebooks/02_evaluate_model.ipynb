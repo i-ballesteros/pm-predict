{
 "cells": [
  {
   "cell_type": "code",
   "execution_count": 1,
   "id": "810194f6",
   "metadata": {},
   "outputs": [],
   "source": [
    "import sys, os\n",
    "import joblib\n",
    "import pandas as pd\n",
    "from sklearn.metrics import (\n",
    "    root_mean_squared_error,\n",
    "    mean_squared_error,\n",
    "    mean_absolute_error,\n",
    "    r2_score,\n",
    ")\n",
    "sys.path.append(os.path.abspath('..'))"
   ]
  },
  {
   "cell_type": "code",
   "execution_count": 2,
   "id": "02ab1528",
   "metadata": {},
   "outputs": [],
   "source": [
    "test_df = pd.read_csv(\"x_val.csv\")\n",
    "test_df[\"datetime\"] = pd.to_datetime(test_df[\"datetime\"])\n",
    "test_df.set_index(\"datetime\", inplace=True)\n",
    "y_test = test_df[\"pm25_hourly_avg\"]\n",
    "model = joblib.load(\"rf_model_2025-06-09_22-02-57.joblib\")"
   ]
  },
  {
   "cell_type": "code",
   "execution_count": 3,
   "id": "72a4f566",
   "metadata": {},
   "outputs": [],
   "source": [
    "y_pred = model.predict(test_df)"
   ]
  },
  {
   "cell_type": "code",
   "execution_count": 4,
   "id": "0fc32f3b",
   "metadata": {},
   "outputs": [
    {
     "name": "stdout",
     "output_type": "stream",
     "text": [
      "MSE:  1.853\n",
      "RMSE: 1.361\n",
      "MAE:  0.596\n",
      "R²:   0.913\n"
     ]
    }
   ],
   "source": [
    "mse = mean_squared_error(y_test, y_pred)\n",
    "rmse = root_mean_squared_error(y_test, y_pred)\n",
    "\n",
    "mae = mean_absolute_error(y_test, y_pred)\n",
    "r2  = r2_score(y_test, y_pred)\n",
    "\n",
    "print(f\"MSE:  {mse:.3f}\")\n",
    "print(f\"RMSE: {rmse:.3f}\")\n",
    "print(f\"MAE:  {mae:.3f}\")\n",
    "print(f\"R²:   {r2:.3f}\")\n"
   ]
  }
 ],
 "metadata": {
  "kernelspec": {
   "display_name": "Python 3",
   "language": "python",
   "name": "python3"
  },
  "language_info": {
   "codemirror_mode": {
    "name": "ipython",
    "version": 3
   },
   "file_extension": ".py",
   "mimetype": "text/x-python",
   "name": "python",
   "nbconvert_exporter": "python",
   "pygments_lexer": "ipython3",
   "version": "3.13.3"
  }
 },
 "nbformat": 4,
 "nbformat_minor": 5
}
